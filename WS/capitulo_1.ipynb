{
  "nbformat": 4,
  "nbformat_minor": 0,
  "metadata": {
    "colab": {
      "name": "capitulo_1.ipynb",
      "version": "0.3.2",
      "provenance": [],
      "include_colab_link": true
    },
    "kernelspec": {
      "name": "python3",
      "display_name": "Python 3"
    },
    "accelerator": "GPU"
  },
  "cells": [
    {
      "cell_type": "markdown",
      "metadata": {
        "id": "view-in-github",
        "colab_type": "text"
      },
      "source": [
        "[![Open In Colab](https://colab.research.google.com/assets/colab-badge.svg)](https://colab.research.google.com/github/nandomaciel/WebScraping/blob/master/WS/capitulo_1.ipynb)"
      ]
    },
    {
      "metadata": {
        "id": "kULIV-qf9g3M",
        "colab_type": "text"
      },
      "cell_type": "markdown",
      "source": [
        "# Parte I - Construindo scrapers"
      ]
    },
    {
      "metadata": {
        "id": "3QcgQjLv-7Ee",
        "colab_type": "text"
      },
      "cell_type": "markdown",
      "source": [
        "## Seu primeiro web scraper"
      ]
    },
    {
      "metadata": {
        "id": "K7n1qQqT-vIy",
        "colab_type": "text"
      },
      "cell_type": "markdown",
      "source": [
        "###Conectando-se"
      ]
    },
    {
      "metadata": {
        "id": "nE557urn97MX",
        "colab_type": "code",
        "colab": {}
      },
      "cell_type": "code",
      "source": [
        "from urllib.request import urlopen"
      ],
      "execution_count": 0,
      "outputs": []
    },
    {
      "metadata": {
        "id": "AStKGE9w-OQ-",
        "colab_type": "code",
        "colab": {}
      },
      "cell_type": "code",
      "source": [
        "html = urlopen(\"http://pythonscraping.com/pages/page1.html\")"
      ],
      "execution_count": 0,
      "outputs": []
    },
    {
      "metadata": {
        "id": "wwV4iboR-iiv",
        "colab_type": "code",
        "colab": {
          "base_uri": "https://localhost:8080/",
          "height": 54
        },
        "outputId": "89a2245d-63cb-4d2f-beea-a31b9238a948"
      },
      "cell_type": "code",
      "source": [
        "print(html.read())"
      ],
      "execution_count": 4,
      "outputs": [
        {
          "output_type": "stream",
          "text": [
            "b'<html>\\n<head>\\n<title>A Useful Page</title>\\n</head>\\n<body>\\n<h1>An Interesting Title</h1>\\n<div>\\nLorem ipsum dolor sit amet, consectetur adipisicing elit, sed do eiusmod tempor incididunt ut labore et dolore magna aliqua. Ut enim ad minim veniam, quis nostrud exercitation ullamco laboris nisi ut aliquip ex ea commodo consequat. Duis aute irure dolor in reprehenderit in voluptate velit esse cillum dolore eu fugiat nulla pariatur. Excepteur sint occaecat cupidatat non proident, sunt in culpa qui officia deserunt mollit anim id est laborum.\\n</div>\\n</body>\\n</html>\\n'\n"
          ],
          "name": "stdout"
        }
      ]
    },
    {
      "metadata": {
        "id": "L2cS2JKo_HPf",
        "colab_type": "text"
      },
      "cell_type": "markdown",
      "source": [
        "### Introdução ao BeautifulSoup"
      ]
    },
    {
      "metadata": {
        "id": "eSdlG1uZ_Nkf",
        "colab_type": "text"
      },
      "cell_type": "markdown",
      "source": [
        "*\"Linda Sopa, tão rica e verdinha,*\n",
        "\n",
        "*Assentada em uma quente terrina!*\n",
        "\n",
        "*Quem não se entregaria a tamanha iguaria?*\n",
        "\n",
        "*Sopa noturna, sopa tão linda!*\n",
        "\n",
        "\n",
        "\n",
        "> Lewis Carroll\n",
        "\n"
      ]
    },
    {
      "metadata": {
        "id": "UyhQHfLLD3j3",
        "colab_type": "text"
      },
      "cell_type": "markdown",
      "source": [
        "### Instalando o BeautifulSoup"
      ]
    },
    {
      "metadata": {
        "id": "xsTVDOxmD72v",
        "colab_type": "code",
        "colab": {
          "base_uri": "https://localhost:8080/",
          "height": 34
        },
        "outputId": "5ee83aa4-e4a0-4ade-9563-aaf1702a6184"
      },
      "cell_type": "code",
      "source": [
        "!pip install beautifulsoup4"
      ],
      "execution_count": 7,
      "outputs": [
        {
          "output_type": "stream",
          "text": [
            "Requirement already satisfied: beautifulsoup4 in /usr/local/lib/python3.6/dist-packages (4.6.3)\n"
          ],
          "name": "stdout"
        }
      ]
    },
    {
      "metadata": {
        "id": "NkJ6eXAEEUZe",
        "colab_type": "code",
        "colab": {
          "base_uri": "https://localhost:8080/",
          "height": 34
        },
        "outputId": "16f1bcf1-77e5-4641-d3db-b0b50b6bfb99"
      },
      "cell_type": "code",
      "source": [
        "!pip3 install beautifulsoup4"
      ],
      "execution_count": 8,
      "outputs": [
        {
          "output_type": "stream",
          "text": [
            "Requirement already satisfied: beautifulsoup4 in /usr/local/lib/python3.6/dist-packages (4.6.3)\n"
          ],
          "name": "stdout"
        }
      ]
    },
    {
      "metadata": {
        "id": "91ovZGeSEfoP",
        "colab_type": "code",
        "colab": {}
      },
      "cell_type": "code",
      "source": [
        "from bs4 import BeautifulSoup"
      ],
      "execution_count": 0,
      "outputs": []
    },
    {
      "metadata": {
        "id": "MagEpfvyP1zE",
        "colab_type": "text"
      },
      "cell_type": "markdown",
      "source": [
        "### Executando o BeautifulSoup"
      ]
    },
    {
      "metadata": {
        "id": "h0xenoNwP-Oc",
        "colab_type": "code",
        "colab": {}
      },
      "cell_type": "code",
      "source": [
        "fromurllib.request import urlopen"
      ],
      "execution_count": 0,
      "outputs": []
    },
    {
      "metadata": {
        "id": "OQS3r9lFQCqF",
        "colab_type": "code",
        "colab": {}
      },
      "cell_type": "code",
      "source": [
        "from bs4 import BeautifulSoup"
      ],
      "execution_count": 0,
      "outputs": []
    },
    {
      "metadata": {
        "id": "oMj5cuv0QGJd",
        "colab_type": "code",
        "colab": {}
      },
      "cell_type": "code",
      "source": [
        "html = urlopen(\"http://pythonscraping.com/exercises/exercise1.html\")"
      ],
      "execution_count": 0,
      "outputs": []
    },
    {
      "metadata": {
        "id": "65296BdFQQQj",
        "colab_type": "code",
        "colab": {}
      },
      "cell_type": "code",
      "source": [
        "bsObj = BeautifulSoup(html.read());"
      ],
      "execution_count": 0,
      "outputs": []
    },
    {
      "metadata": {
        "id": "115YNMuaQZLB",
        "colab_type": "code",
        "colab": {
          "base_uri": "https://localhost:8080/",
          "height": 34
        },
        "outputId": "9f79e179-b14f-411a-a2f1-6d0e0e2c6794"
      },
      "cell_type": "code",
      "source": [
        "print(bsObj.h1)"
      ],
      "execution_count": 27,
      "outputs": [
        {
          "output_type": "stream",
          "text": [
            "<h1>An Interesting Title</h1>\n"
          ],
          "name": "stdout"
        }
      ]
    },
    {
      "metadata": {
        "id": "oAiHSGLtQzMd",
        "colab_type": "code",
        "colab": {
          "base_uri": "https://localhost:8080/",
          "height": 34
        },
        "outputId": "cb51a42d-c8a2-43e7-ec84-e8f3c65ee09b"
      },
      "cell_type": "code",
      "source": [
        "print(bsObj.html.body.h1)"
      ],
      "execution_count": 28,
      "outputs": [
        {
          "output_type": "stream",
          "text": [
            "<h1>An Interesting Title</h1>\n"
          ],
          "name": "stdout"
        }
      ]
    },
    {
      "metadata": {
        "id": "fHEJvU2IQ319",
        "colab_type": "code",
        "colab": {
          "base_uri": "https://localhost:8080/",
          "height": 34
        },
        "outputId": "a7d00b6d-461a-4f1f-b13a-3c35448cc333"
      },
      "cell_type": "code",
      "source": [
        "print(bsObj.body.h1)"
      ],
      "execution_count": 29,
      "outputs": [
        {
          "output_type": "stream",
          "text": [
            "<h1>An Interesting Title</h1>\n"
          ],
          "name": "stdout"
        }
      ]
    },
    {
      "metadata": {
        "id": "gkirtweRQ87L",
        "colab_type": "code",
        "colab": {
          "base_uri": "https://localhost:8080/",
          "height": 34
        },
        "outputId": "bc34f214-995e-457e-dc69-cecd95349c8e"
      },
      "cell_type": "code",
      "source": [
        "print(bsObj.html.h1)"
      ],
      "execution_count": 31,
      "outputs": [
        {
          "output_type": "stream",
          "text": [
            "<h1>An Interesting Title</h1>\n"
          ],
          "name": "stdout"
        }
      ]
    },
    {
      "metadata": {
        "id": "oIqoQgItREmV",
        "colab_type": "text"
      },
      "cell_type": "markdown",
      "source": [
        "### Conectando-se de maneira confiável"
      ]
    },
    {
      "metadata": {
        "id": "AxPiAoKxaHn1",
        "colab_type": "code",
        "colab": {}
      },
      "cell_type": "code",
      "source": [
        "from urllib.error import HTTPError"
      ],
      "execution_count": 0,
      "outputs": []
    },
    {
      "metadata": {
        "id": "kmFsJ3x8RI3n",
        "colab_type": "code",
        "colab": {
          "base_uri": "https://localhost:8080/",
          "height": 34
        },
        "outputId": "88ad666b-4aa0-40fc-c8fe-b28b833dc3aa"
      },
      "cell_type": "code",
      "source": [
        "try:\n",
        "    html = urlopen(\"http://pythonscraping.com/exercises/exercise1.html\")\n",
        "except HTTPError as e:\n",
        "    print(e)\n",
        "    # Retorna null, break ou executa algum outro 'Plano B'\n",
        "    # Para utilizar o HTTPError é necessario importar:\n",
        "    # from urllib.error import HTTPError\n",
        "else:\n",
        "    # o programa continua. Nota: se você retornar ou sair na\n",
        "    # captura de exceção, não precisará usar a instrução \"else\"\n",
        "    print(html)"
      ],
      "execution_count": 39,
      "outputs": [
        {
          "output_type": "stream",
          "text": [
            "<http.client.HTTPResponse object at 0x7fecadafeac8>\n"
          ],
          "name": "stdout"
        }
      ]
    },
    {
      "metadata": {
        "colab_type": "code",
        "outputId": "fa5fd872-c25d-4705-fcc8-0af8ef15fd9a",
        "id": "o5bSBoypdBnm",
        "colab": {
          "base_uri": "https://localhost:8080/",
          "height": 34
        }
      },
      "cell_type": "code",
      "source": [
        "# Verificando se o valor retornado pelo HTML é None\n",
        "if html is None:\n",
        "    print(\"URL is not found\")\n",
        "else:\n",
        "    print(\"URL\")"
      ],
      "execution_count": 0,
      "outputs": [
        {
          "output_type": "stream",
          "text": [
            "URL\n"
          ],
          "name": "stdout"
        }
      ]
    },
    {
      "metadata": {
        "id": "SyVGbOyPbRz8",
        "colab_type": "code",
        "colab": {
          "base_uri": "https://localhost:8080/",
          "height": 88
        },
        "outputId": "f7f69f33-2327-4dae-f570-f373dbb2a97b"
      },
      "cell_type": "code",
      "source": [
        "print(bsObj.nonExistentTag)"
      ],
      "execution_count": 47,
      "outputs": [
        {
          "output_type": "stream",
          "text": [
            "None\n"
          ],
          "name": "stdout"
        },
        {
          "output_type": "stream",
          "text": [
            "/usr/local/lib/python3.6/dist-packages/bs4/element.py:1110: UserWarning: .nonExistentTag is deprecated, use .find(\"nonExistent\") instead. If you really were looking for a tag called nonExistentTag, use .find(\"nonExistentTag\")\n",
            "  name=tag_name\n"
          ],
          "name": "stderr"
        }
      ]
    },
    {
      "metadata": {
        "id": "lhbwrlcXblCc",
        "colab_type": "code",
        "colab": {
          "base_uri": "https://localhost:8080/",
          "height": 217
        },
        "collapsed": true,
        "outputId": "69f1ae3a-ff40-4436-84a5-a075e2280c17"
      },
      "cell_type": "code",
      "source": [
        "print(bsObj.nonExistentTag.someTag)"
      ],
      "execution_count": 48,
      "outputs": [
        {
          "output_type": "stream",
          "text": [
            "/usr/local/lib/python3.6/dist-packages/bs4/element.py:1110: UserWarning: .nonExistentTag is deprecated, use .find(\"nonExistent\") instead. If you really were looking for a tag called nonExistentTag, use .find(\"nonExistentTag\")\n",
            "  name=tag_name\n"
          ],
          "name": "stderr"
        },
        {
          "output_type": "error",
          "ename": "AttributeError",
          "evalue": "ignored",
          "traceback": [
            "\u001b[0;31m---------------------------------------------------------------------------\u001b[0m",
            "\u001b[0;31mAttributeError\u001b[0m                            Traceback (most recent call last)",
            "\u001b[0;32m<ipython-input-48-0f099405cb7e>\u001b[0m in \u001b[0;36m<module>\u001b[0;34m()\u001b[0m\n\u001b[0;32m----> 1\u001b[0;31m \u001b[0mprint\u001b[0m\u001b[0;34m(\u001b[0m\u001b[0mbsObj\u001b[0m\u001b[0;34m.\u001b[0m\u001b[0mnonExistentTag\u001b[0m\u001b[0;34m.\u001b[0m\u001b[0msomeTag\u001b[0m\u001b[0;34m)\u001b[0m\u001b[0;34m\u001b[0m\u001b[0m\n\u001b[0m",
            "\u001b[0;31mAttributeError\u001b[0m: 'NoneType' object has no attribute 'someTag'"
          ]
        }
      ]
    },
    {
      "metadata": {
        "id": "l1ZtCX04bvXT",
        "colab_type": "code",
        "colab": {
          "base_uri": "https://localhost:8080/",
          "height": 88
        },
        "outputId": "2ba5a0ae-a9e2-4ada-e61d-315fd8a22aa9"
      },
      "cell_type": "code",
      "source": [
        "try:\n",
        "    badContent = bsObj.nonExistingTag.anotherTag\n",
        "except AttributeError as e:\n",
        "    print(\"Tag was not found\")\n",
        "else:\n",
        "    if badContent == None:\n",
        "        print(\"Tag was not found\")\n",
        "    else:\n",
        "        print(badContent)"
      ],
      "execution_count": 54,
      "outputs": [
        {
          "output_type": "stream",
          "text": [
            "Tag was not found\n"
          ],
          "name": "stdout"
        },
        {
          "output_type": "stream",
          "text": [
            "/usr/local/lib/python3.6/dist-packages/bs4/element.py:1110: UserWarning: .nonExistingTag is deprecated, use .find(\"nonExisting\") instead. If you really were looking for a tag called nonExistingTag, use .find(\"nonExistingTag\")\n",
            "  name=tag_name\n"
          ],
          "name": "stderr"
        }
      ]
    },
    {
      "metadata": {
        "id": "L_9GRVkqfEOb",
        "colab_type": "code",
        "colab": {}
      },
      "cell_type": "code",
      "source": [
        "from urllib.request import urlopen\n",
        "from urllib.error import HTTPError\n",
        "from bs4 import BeautifulSoup"
      ],
      "execution_count": 0,
      "outputs": []
    },
    {
      "metadata": {
        "id": "fbshfqpmfpfA",
        "colab_type": "code",
        "colab": {
          "base_uri": "https://localhost:8080/",
          "height": 34
        },
        "outputId": "8a143190-f33c-4459-c44c-b59a77e7e136"
      },
      "cell_type": "code",
      "source": [
        "def getTitle(url):\n",
        "    try:\n",
        "        html = urlopen(url)\n",
        "    except HTTPError as e:\n",
        "        return None\n",
        "    \n",
        "    try:\n",
        "        bsObj = BeautifulSoup(html.read())\n",
        "        title = bsObj.body.h1\n",
        "    except AttributeError as e:\n",
        "        return None\n",
        "    \n",
        "    return title\n",
        "\n",
        "title = getTitle(\"http://pythonscraping.com/exercises/exercise1.html\")\n",
        "if title == None:\n",
        "    print(\"Title could not be found\")\n",
        "else:\n",
        "    print(title)"
      ],
      "execution_count": 63,
      "outputs": [
        {
          "output_type": "stream",
          "text": [
            "<h1>An Interesting Title</h1>\n"
          ],
          "name": "stdout"
        }
      ]
    }
  ]
}