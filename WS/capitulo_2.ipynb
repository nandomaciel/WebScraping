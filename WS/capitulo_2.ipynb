{
  "nbformat": 4,
  "nbformat_minor": 0,
  "metadata": {
    "colab": {
      "name": "capitulo_2.ipynb",
      "version": "0.3.2",
      "provenance": [],
      "collapsed_sections": []
    }
  },
  "cells": [
    {
      "metadata": {
        "id": "iLqjTbVlFWkh",
        "colab_type": "text"
      },
      "cell_type": "markdown",
      "source": [
        "# Parte I - Construindo scrapers"
      ]
    },
    {
      "metadata": {
        "id": "dfGqdoGYFuzA",
        "colab_type": "text"
      },
      "cell_type": "markdown",
      "source": [
        "## Análise de HTML avançada"
      ]
    },
    {
      "metadata": {
        "id": "WA0AqnU_Fxoc",
        "colab_type": "code",
        "colab": {}
      },
      "cell_type": "code",
      "source": [
        ""
      ],
      "execution_count": 0,
      "outputs": []
    }
  ]
}